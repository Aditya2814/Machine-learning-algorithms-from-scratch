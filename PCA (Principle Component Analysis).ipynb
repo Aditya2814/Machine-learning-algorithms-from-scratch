{
 "cells": [
  {
   "cell_type": "code",
   "execution_count": 2,
   "id": "3b34298f",
   "metadata": {},
   "outputs": [],
   "source": [
    "# Covariance matrix from scratch\n",
    "\n",
    "def covariance(x, y): # finds covariance between 2 features x and y.\n",
    "  sum = 0\n",
    "  mean_x = np.mean(x)\n",
    "  mean_y = np.mean(y)\n",
    "  length = len(x)\n",
    "  for i in range(length):\n",
    "    sum += (x[i] - mean_x)*(y[i] - mean_y)\n",
    "  cov = sum / (length-1)\n",
    "  return cov\n",
    "\n",
    "def cov_mat(X): # generates covariance matrix for n features where n is the number of features.\n",
    "  n = X.shape[1]\n",
    "  cov_matrix = np.zeros((n,n))\n",
    "  for i in range(n):\n",
    "    for j in range(n):\n",
    "      cov_matrix[i, j] = covariance(X[:, i], X[:, j])\n",
    "  return cov_matrix"
   ]
  },
  {
   "cell_type": "code",
   "execution_count": 5,
   "id": "0a348d8a",
   "metadata": {},
   "outputs": [],
   "source": [
    "from scipy.linalg import eig # to calculate eigen values and eigen vectors"
   ]
  },
  {
   "cell_type": "code",
   "execution_count": 6,
   "id": "113f6a14",
   "metadata": {},
   "outputs": [],
   "source": [
    "class PCA:\n",
    "  def __init__(self, n_dimensions):\n",
    "    self.n_dimensions = n_dimensions\n",
    "    self.covariance_matrix = None\n",
    "    self.principal_components = None\n",
    "    self.explained_variance = None\n",
    "\n",
    "  def fit(self, x):\n",
    "    cov_matrix = cov_mat(x)\n",
    "    self.covariance_matrix = cov_matrix\n",
    "    eigenvalues, eigenvectors = eig(cov_matrix) # finds eigen values and vectors\n",
    "    eigenvectors = eigenvectors.T # eigen vectors  are column-wise hence doing transpose of it to make it easier for future purposes.\n",
    "\n",
    "    index = np.argsort(eigenvalues)[::-1] # sorting in descending order the eigen vectors according to corresponding eigen values.\n",
    "    eigenvalues = eigenvalues[index]\n",
    "    eigenvectors = eigenvectors[index]\n",
    "\n",
    "    principle_comps = []\n",
    "    explained_var = [] # explained variance ratio\n",
    "    for i in range(self.n_dimensions):\n",
    "      principle_comps.append(eigenvectors[i]) # collecting the principal components required\n",
    "      explained_var.append(eigenvalues[i] / np.sum(eigenvalues)) # storing explained variance for each principal component\n",
    "\n",
    "    self.principal_components = np.array(principle_comps)\n",
    "    self.explained_variance = np.array(explained_var)\n",
    "\n",
    "  def transform(self, x):\n",
    "    X_transformed = np.dot(x, self.principal_components.T) # taking dot product to transform the original data\n",
    "    return X_transformed"
   ]
  }
 ],
 "metadata": {
  "kernelspec": {
   "display_name": "Python 3 (ipykernel)",
   "language": "python",
   "name": "python3"
  },
  "language_info": {
   "codemirror_mode": {
    "name": "ipython",
    "version": 3
   },
   "file_extension": ".py",
   "mimetype": "text/x-python",
   "name": "python",
   "nbconvert_exporter": "python",
   "pygments_lexer": "ipython3",
   "version": "3.11.1"
  }
 },
 "nbformat": 4,
 "nbformat_minor": 5
}

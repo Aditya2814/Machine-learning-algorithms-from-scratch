{
 "cells": [
  {
   "cell_type": "code",
   "execution_count": 1,
   "id": "d08c9747",
   "metadata": {},
   "outputs": [],
   "source": [
    "class baggingclassifier:\n",
    "                                   \n",
    "  def __init__(self, n_estimators):   # This method is called when a new instance of class is created. \n",
    "    self.n_estimators = n_estimators  # This Method is used to initialise the attributes such as n_estimators in this case.\n",
    "    self.max_samples = 500            # the number of samples to be used to train each individual decision tree classifier.\n",
    "    self.list_of_classifiers = []     # list to store instances of classifiers.\n",
    "\n",
    "  def fit(self, x_train, y_train):\n",
    "    for i in range(self.n_estimators): \n",
    "      dtc = DecisionTreeClassifier()\n",
    "      indices = np.random.choice(x_train.shape[0], self.max_samples) # x_train.shape[0] = 750, so it will take 500 (self.max_samples) random numbers out of 750.\n",
    "      x_train_part = x_train[indices] # 500 random samples are taken from x_train.\n",
    "      y_train_part = y_train[indices] # 500 random samples are taken from y_train.\n",
    "      dtc.fit(x_train_part, y_train_part) # training model on this dataset.\n",
    "      self.list_of_classifiers.append(dtc) # storing the instance in the list of classifiers.\n",
    "\n",
    "  def predict(self, x_test):\n",
    "    preds_of_classifiers = [] # stores predictions of all the 10 classifiers.\n",
    "    for i in self.list_of_classifiers:\n",
    "      y_pred = i.predict(x_test) # predicitions are made using inbuilt predict method of decision tree classifier and stores in y_pred.\n",
    "      preds_of_classifiers.append(y_pred) # predictions are stored in the list.\n",
    "    preds_of_classifiers = np.array(preds_of_classifiers) # converting into numpy array. \n",
    "\n",
    "    length = preds_of_classifiers.shape[1] # the number of predictions = 500 in this case.\n",
    "    preds = [] # stores final predictions.\n",
    "    for i in range(length):\n",
    "      counts = np.bincount(preds_of_classifiers[:, i]) # counts occurences of all the classes (0 and 1 in this case)\n",
    "      most_frequent_element = np.argmax(counts) # returns the class with most occurences.\n",
    "      preds.append(most_frequent_element) # the class is the final output and is stored in the list of final predictions.\n",
    "    \n",
    "    return np.array(preds) # returning the numpy array of final predicitons."
   ]
  }
 ],
 "metadata": {
  "kernelspec": {
   "display_name": "Python 3 (ipykernel)",
   "language": "python",
   "name": "python3"
  },
  "language_info": {
   "codemirror_mode": {
    "name": "ipython",
    "version": 3
   },
   "file_extension": ".py",
   "mimetype": "text/x-python",
   "name": "python",
   "nbconvert_exporter": "python",
   "pygments_lexer": "ipython3",
   "version": "3.11.1"
  }
 },
 "nbformat": 4,
 "nbformat_minor": 5
}

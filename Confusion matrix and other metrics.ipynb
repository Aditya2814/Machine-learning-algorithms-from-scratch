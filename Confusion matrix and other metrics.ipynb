{
 "cells": [
  {
   "cell_type": "code",
   "execution_count": 3,
   "id": "0547cffa",
   "metadata": {},
   "outputs": [],
   "source": [
    "def confusion_matrix(y_pred, y_test):\n",
    "  \n",
    "  for i in range(171):\n",
    "    if(logistic_pred[i] == 1 and y_test[i] == 1):\n",
    "      c_mat[1][1] += 1\n",
    "    elif(logistic_pred[i] == 1 and y_test[i] == 0):\n",
    "      c_mat[0][1] += 1\n",
    "    elif(logistic_pred[i] == 0 and y_test[i] == 0):\n",
    "      c_mat[0][0] += 1\n",
    "    else:\n",
    "      c_mat[1][0] += 1\n",
    "    \n",
    "  return c_mat"
   ]
  },
  {
   "cell_type": "code",
   "execution_count": null,
   "id": "ae4c4d67",
   "metadata": {},
   "outputs": [],
   "source": [
    "c_mat = confusion_matrix(logistic_pred, y_test)\n",
    "\n",
    "tp = c_mat[1][1]\n",
    "fp = c_mat[0][1]\n",
    "fn = c_mat[1][0]\n",
    "tn = c_mat[0][0]"
   ]
  },
  {
   "cell_type": "code",
   "execution_count": 2,
   "id": "9c1a488a",
   "metadata": {
    "collapsed": true
   },
   "outputs": [
    {
     "ename": "NameError",
     "evalue": "name 'tp' is not defined",
     "output_type": "error",
     "traceback": [
      "\u001b[1;31m---------------------------------------------------------------------------\u001b[0m",
      "\u001b[1;31mNameError\u001b[0m                                 Traceback (most recent call last)",
      "Cell \u001b[1;32mIn[2], line 7\u001b[0m\n\u001b[0;32m      4\u001b[0m   avg_accuracy \u001b[38;5;241m=\u001b[39m (tp \u001b[38;5;241m+\u001b[39m tn) \u001b[38;5;241m/\u001b[39m (tp \u001b[38;5;241m+\u001b[39m tn \u001b[38;5;241m+\u001b[39m fn \u001b[38;5;241m+\u001b[39m fp)\n\u001b[0;32m      5\u001b[0m   \u001b[38;5;28;01mreturn\u001b[39;00m avg_accuracy \u001b[38;5;241m*\u001b[39m \u001b[38;5;241m100\u001b[39m\n\u001b[1;32m----> 7\u001b[0m \u001b[38;5;28mprint\u001b[39m(\u001b[43mavg_accuracy\u001b[49m\u001b[43m(\u001b[49m\u001b[43m)\u001b[49m,\u001b[38;5;124m'\u001b[39m\u001b[38;5;124m%\u001b[39m\u001b[38;5;124m'\u001b[39m)\n",
      "Cell \u001b[1;32mIn[2], line 4\u001b[0m, in \u001b[0;36mavg_accuracy\u001b[1;34m()\u001b[0m\n\u001b[0;32m      3\u001b[0m \u001b[38;5;28;01mdef\u001b[39;00m \u001b[38;5;21mavg_accuracy\u001b[39m():\n\u001b[1;32m----> 4\u001b[0m   avg_accuracy \u001b[38;5;241m=\u001b[39m (\u001b[43mtp\u001b[49m \u001b[38;5;241m+\u001b[39m tn) \u001b[38;5;241m/\u001b[39m (tp \u001b[38;5;241m+\u001b[39m tn \u001b[38;5;241m+\u001b[39m fn \u001b[38;5;241m+\u001b[39m fp)\n\u001b[0;32m      5\u001b[0m   \u001b[38;5;28;01mreturn\u001b[39;00m avg_accuracy \u001b[38;5;241m*\u001b[39m \u001b[38;5;241m100\u001b[39m\n",
      "\u001b[1;31mNameError\u001b[0m: name 'tp' is not defined"
     ]
    }
   ],
   "source": [
    "# Average Accuracy\n",
    "\n",
    "def avg_accuracy():\n",
    "  avg_accuracy = (tp + tn) / (tp + tn + fn + fp)\n",
    "  return avg_accuracy * 100\n",
    "\n",
    "print(avg_accuracy(),'%')"
   ]
  },
  {
   "cell_type": "code",
   "execution_count": 6,
   "id": "8c437a31",
   "metadata": {
    "collapsed": true
   },
   "outputs": [
    {
     "ename": "NameError",
     "evalue": "name 'tp' is not defined",
     "output_type": "error",
     "traceback": [
      "\u001b[1;31m---------------------------------------------------------------------------\u001b[0m",
      "\u001b[1;31mNameError\u001b[0m                                 Traceback (most recent call last)",
      "Cell \u001b[1;32mIn[6], line 6\u001b[0m\n\u001b[0;32m      3\u001b[0m \u001b[38;5;28;01mdef\u001b[39;00m \u001b[38;5;21mclass_accuracy\u001b[39m():\n\u001b[0;32m      4\u001b[0m   \u001b[38;5;28;01mreturn\u001b[39;00m (((tp\u001b[38;5;241m/\u001b[39m(tp\u001b[38;5;241m+\u001b[39mfn)) \u001b[38;5;241m+\u001b[39m (tn\u001b[38;5;241m/\u001b[39m(fp\u001b[38;5;241m+\u001b[39mtn))) \u001b[38;5;241m/\u001b[39m \u001b[38;5;241m2\u001b[39m) \u001b[38;5;241m*\u001b[39m \u001b[38;5;241m100\u001b[39m\n\u001b[1;32m----> 6\u001b[0m \u001b[38;5;28mprint\u001b[39m(\u001b[43mclass_accuracy\u001b[49m\u001b[43m(\u001b[49m\u001b[43m)\u001b[49m,\u001b[38;5;124m'\u001b[39m\u001b[38;5;124m%\u001b[39m\u001b[38;5;124m'\u001b[39m)\n",
      "Cell \u001b[1;32mIn[6], line 4\u001b[0m, in \u001b[0;36mclass_accuracy\u001b[1;34m()\u001b[0m\n\u001b[0;32m      3\u001b[0m \u001b[38;5;28;01mdef\u001b[39;00m \u001b[38;5;21mclass_accuracy\u001b[39m():\n\u001b[1;32m----> 4\u001b[0m   \u001b[38;5;28;01mreturn\u001b[39;00m (((\u001b[43mtp\u001b[49m\u001b[38;5;241m/\u001b[39m(tp\u001b[38;5;241m+\u001b[39mfn)) \u001b[38;5;241m+\u001b[39m (tn\u001b[38;5;241m/\u001b[39m(fp\u001b[38;5;241m+\u001b[39mtn))) \u001b[38;5;241m/\u001b[39m \u001b[38;5;241m2\u001b[39m) \u001b[38;5;241m*\u001b[39m \u001b[38;5;241m100\u001b[39m\n",
      "\u001b[1;31mNameError\u001b[0m: name 'tp' is not defined"
     ]
    }
   ],
   "source": [
    "# Class-Wise Accuracy\n",
    "\n",
    "def class_accuracy():\n",
    "  return (((tp/(tp+fn)) + (tn/(fp+tn))) / 2) * 100\n",
    "\n",
    "print(class_accuracy(),'%')"
   ]
  },
  {
   "cell_type": "code",
   "execution_count": null,
   "id": "c57bbfd9",
   "metadata": {},
   "outputs": [],
   "source": [
    "# Precision\n",
    "\n",
    "def precision():\n",
    "  return (tp/(tp+fp)) * 100\n",
    "\n",
    "print(precision(),'%')"
   ]
  },
  {
   "cell_type": "code",
   "execution_count": null,
   "id": "6af8f8ca",
   "metadata": {},
   "outputs": [],
   "source": [
    "# Recall\n",
    "\n",
    "def recall():\n",
    "  return (tp/(tp+fn))*100\n",
    "\n",
    "print(recall(),'%')"
   ]
  },
  {
   "cell_type": "code",
   "execution_count": null,
   "id": "64f7671a",
   "metadata": {},
   "outputs": [],
   "source": [
    "# F1-score\n",
    "\n",
    "def f1_score():\n",
    "  return (2/((1/recall()) + (1/precision())))\n",
    "\n",
    "print(f1_score(),'%')"
   ]
  },
  {
   "cell_type": "code",
   "execution_count": null,
   "id": "e8fc6f1b",
   "metadata": {},
   "outputs": [],
   "source": [
    "# Sensitivity\n",
    "\n",
    "def sensitivity():\n",
    "  return (tp/(tp+fn))*100\n",
    "\n",
    "print(sensitivity(),'%')"
   ]
  },
  {
   "cell_type": "code",
   "execution_count": null,
   "id": "88edd844",
   "metadata": {},
   "outputs": [],
   "source": [
    "# Specificity\n",
    "\n",
    "def specificity():\n",
    "  return (tn/(tn+fp))*100\n",
    "\n",
    "print(specificity(),'%')"
   ]
  }
 ],
 "metadata": {
  "kernelspec": {
   "display_name": "Python 3 (ipykernel)",
   "language": "python",
   "name": "python3"
  },
  "language_info": {
   "codemirror_mode": {
    "name": "ipython",
    "version": 3
   },
   "file_extension": ".py",
   "mimetype": "text/x-python",
   "name": "python",
   "nbconvert_exporter": "python",
   "pygments_lexer": "ipython3",
   "version": "3.11.1"
  }
 },
 "nbformat": 4,
 "nbformat_minor": 5
}
